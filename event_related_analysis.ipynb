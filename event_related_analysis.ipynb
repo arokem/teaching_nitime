{
 "metadata": {
  "name": "event_related_analysis"
 },
 "nbformat": 3,
 "nbformat_minor": 0,
 "worksheets": [
  {
   "cells": [
    {
     "cell_type": "markdown",
     "metadata": {},
     "source": [
      " Auditory processing in grasshoppers\n",
      "=====================================\n",
      "\n",
      "Extracting the average time-series from one signal, time-locked to the\n",
      "occurence of some type of event in another signal is a very typical operation in\n",
      "the analysis of time-series from neuroscience experiments. \n",
      "\n",
      "In the following code-snippet, we demonstrate the calculation of the\n",
      "spike-triggered average (STA). This is the average of the stimulus wave-form\n",
      "preceding the emission of a spike in the neuron and can be thought of as the\n",
      "stimulus 'preferred' by this neuron.\n",
      "\n",
      "The data used in this example is available as part of the `nitime` source code, \n",
      "but can also be downloaded from the [CRCNS data sharing web-site](http://crcns.org/data-sets/ia/ia-1).\n",
      "\n",
      "Methods used to acquire the data are available in [this paper](http://arokem.org/publications/papers/Rokem2006InfoJiitter.pdf).\n",
      "\n",
      "We start by importing the required modules:"
     ]
    },
    {
     "cell_type": "code",
     "collapsed": false,
     "input": [
      "import os\n",
      "\n",
      "import numpy as np\n",
      "\n",
      "import nitime\n",
      "import nitime.timeseries as ts\n",
      "import nitime.analysis as tsa\n",
      "import nitime.viz as viz\n",
      "from matplotlib import pyplot as plt"
     ],
     "language": "python",
     "metadata": {},
     "outputs": [],
     "prompt_number": 1
    },
    {
     "cell_type": "markdown",
     "metadata": {},
     "source": [
      "Two data files are used in this example. The first contains the times of action\n",
      "potentials ('spikes'), recorded intra-cellularly from primary auditory\n",
      "receptors in the grasshopper *Locusta Migratoria*.\n",
      "\n",
      "We read in these times and initialize an Events object from them. The\n",
      "spike-times are given in micro-seconds:"
     ]
    },
    {
     "cell_type": "code",
     "collapsed": false,
     "input": [
      "data_path = os.path.join(nitime.__path__[0], 'data')\n",
      "\n",
      "spike_times = np.loadtxt(os.path.join(data_path, 'grasshopper_spike_times1.txt'))\n",
      "\n",
      "spike_ev = ts.Events(spike_times, time_unit='us')"
     ],
     "language": "python",
     "metadata": {},
     "outputs": [],
     "prompt_number": 2
    },
    {
     "cell_type": "markdown",
     "metadata": {},
     "source": [
      "The first data file contains the stimulus that was played during the\n",
      "recording. Briefly, the stimulus played was a pure-tone in the cell's preferred\n",
      "frequency amplitude modulated by Gaussian white-noise, up to a cut-off\n",
      "frequency (200 Hz in this case, for details on the experimental procedures and\n",
      "the stimulus see Rokem et al. 2006)."
     ]
    },
    {
     "cell_type": "code",
     "collapsed": false,
     "input": [
      "stim = np.loadtxt(os.path.join(data_path, 'grasshopper_stimulus1.txt'))"
     ],
     "language": "python",
     "metadata": {},
     "outputs": [],
     "prompt_number": 3
    },
    {
     "cell_type": "markdown",
     "metadata": {},
     "source": [
      "The stimulus needs to be transformed from Volts to dB:"
     ]
    },
    {
     "cell_type": "code",
     "collapsed": false,
     "input": [
      "def volt2dB(stim, maxdB=100):\n",
      "    stim = (20 * 1 / np.log(10)) * (np.log(stim[:, 1] / 2.0e-5))\n",
      "    return maxdB - stim.max() + stim\n",
      "\n",
      "stim = volt2dB(stim, maxdB=76.4286)  # maxdB taken from the spike file header"
     ],
     "language": "python",
     "metadata": {},
     "outputs": [],
     "prompt_number": 4
    },
    {
     "cell_type": "markdown",
     "metadata": {},
     "source": [
      "We create a time-series object for the stimulus, which was sampled at 20 kHz:"
     ]
    },
    {
     "cell_type": "code",
     "collapsed": false,
     "input": [
      "stim_time_series = ts.TimeSeries(t0=0,\n",
      "                                 data=stim,\n",
      "                                 sampling_interval=50,\n",
      "                                 time_unit='us')"
     ],
     "language": "python",
     "metadata": {},
     "outputs": [],
     "prompt_number": 5
    },
    {
     "cell_type": "markdown",
     "metadata": {},
     "source": [
      "Note that the time-representation will not change if we now convert the\n",
      "time-unit into ms. The only thing this accomplishes is to use this time-unit in\n",
      "subsequent visualization of the resulting time-series"
     ]
    },
    {
     "cell_type": "code",
     "collapsed": false,
     "input": [
      "stim_time_series.time_unit = 'ms'"
     ],
     "language": "python",
     "metadata": {},
     "outputs": [],
     "prompt_number": 6
    },
    {
     "cell_type": "markdown",
     "metadata": {},
     "source": [
      "Next, we initialize an `EventRelatedAnalyzer`:"
     ]
    },
    {
     "cell_type": "code",
     "collapsed": false,
     "input": [
      "event_related = tsa.EventRelatedAnalyzer(stim_time_series,\n",
      "                                         spike_ev,\n",
      "                                         len_et=200,\n",
      "                                         offset=-200)"
     ],
     "language": "python",
     "metadata": {},
     "outputs": [],
     "prompt_number": 7
    },
    {
     "cell_type": "markdown",
     "metadata": {},
     "source": [
      "The actual STA gets calculated in this line (the call to `event_related.eta`)\n",
      "and the result gets input directly into the plotting function:"
     ]
    },
    {
     "cell_type": "code",
     "collapsed": false,
     "input": [
      "fig01 = viz.plot_tseries(event_related.eta, ylabel='Amplitude (dB SPL)')\n",
      "\n",
      "# We prettify the plot a bit by adding a dashed line at the mean of the stimulus\n",
      "\n",
      "ax = fig01.get_axes()[0]\n",
      "xlim = ax.get_xlim()\n",
      "ylim = ax.get_ylim()\n",
      "mean_stim = np.mean(stim_time_series.data)\n",
      "ax.plot([xlim[0], xlim[1]], [mean_stim, mean_stim], 'k--')"
     ],
     "language": "python",
     "metadata": {},
     "outputs": [
      {
       "output_type": "pyout",
       "prompt_number": 8,
       "text": [
        "[<matplotlib.lines.Line2D at 0x10c18ec50>]"
       ]
      },
      {
       "output_type": "display_data",
       "png": "[encoded data removed]",
       "text": [
        "<matplotlib.figure.Figure at 0x10c18ed10>"
       ]
      }
     ],
     "prompt_number": 8
    },
    {
     "cell_type": "markdown",
     "metadata": {},
     "source": [
      "We can put in shading of the error bars: "
     ]
    },
    {
     "cell_type": "code",
     "collapsed": false,
     "input": [
      "fig02 = viz.plot_tseries(event_related.eta, yerror=event_related.ets, ylabel='Amplitude (dB SPL)', )\n",
      "\n",
      "# We prettify the plot a bit by adding a dashed line at the mean of the stimulus\n",
      "\n",
      "ax = fig01.get_axes()[0]\n",
      "xlim = ax.get_xlim()\n",
      "ylim = ax.get_ylim()\n",
      "mean_stim = np.mean(stim_time_series.data)\n",
      "ax.plot([xlim[0], xlim[1]], [mean_stim, mean_stim], 'k--')"
     ],
     "language": "python",
     "metadata": {},
     "outputs": [
      {
       "output_type": "pyout",
       "prompt_number": 9,
       "text": [
        "[<matplotlib.lines.Line2D at 0x10ea29f50>]"
       ]
      },
      {
       "output_type": "display_data",
       "png": "[encoded data removed]",
       "text": [
        "<matplotlib.figure.Figure at 0x100675b50>"
       ]
      }
     ],
     "prompt_number": 9
    },
    {
     "cell_type": "markdown",
     "metadata": {},
     "source": [
      "In the following example, a second channel has been added to both the stimulus\n",
      "and the spike-train time-series. This is the response of the same cell, to a\n",
      "different stimulus, in which the frequency modulation has a higher frequency\n",
      "cut-off (800 Hz)."
     ]
    },
    {
     "cell_type": "code",
     "collapsed": false,
     "input": [
      "stim2 = np.loadtxt(os.path.join(data_path, 'grasshopper_stimulus2.txt'))\n",
      "stim2 = volt2dB(stim2, maxdB=76.4286)\n",
      "spike_times2 = np.loadtxt(os.path.join(data_path, 'grasshopper_spike_times2.txt'))"
     ],
     "language": "python",
     "metadata": {},
     "outputs": [],
     "prompt_number": 10
    },
    {
     "cell_type": "markdown",
     "metadata": {},
     "source": [
      "We loop over the two spike-time events and stimulus time-series:"
     ]
    },
    {
     "cell_type": "code",
     "collapsed": false,
     "input": [
      "et = []\n",
      "means = []\n",
      "for stim, spike in zip([stim, stim2], [spike_times, spike_times2]):\n",
      "    stim_time_series = ts.TimeSeries(t0=0, data=stim, sampling_interval=50,\n",
      "                                     time_unit='us')\n",
      "\n",
      "    stim_time_series.time_unit = 'ms'\n",
      "\n",
      "    spike_ev = ts.Events(spike, time_unit='us')\n",
      "    #Initialize the event-related analyzer\n",
      "    event_related = tsa.EventRelatedAnalyzer(stim_time_series,\n",
      "                                             spike_ev,\n",
      "                                             len_et=200,\n",
      "                                             offset=-200)\n",
      "\n",
      "    # This is the line which actually executes the analysis\n",
      "    et.append(event_related.eta)\n",
      "    means.append(np.mean(stim_time_series.data))"
     ],
     "language": "python",
     "metadata": {},
     "outputs": [],
     "prompt_number": 11
    },
    {
     "cell_type": "markdown",
     "metadata": {},
     "source": [
      "Stack the data from both time-series, initialize a new time-series and plot it:"
     ]
    },
    {
     "cell_type": "code",
     "collapsed": false,
     "input": [
      "fig02 = viz.plot_tseries(\n",
      "    ts.TimeSeries(data=np.vstack([et[0].data, et[1].data]),\n",
      "                  sampling_rate=et[0].sampling_rate, time_unit='ms'))\n",
      "\n",
      "ax = fig02.get_axes()[0]\n",
      "xlim = ax.get_xlim()\n",
      "ax.plot([xlim[0], xlim[1]], [means[0], means[0]], 'b--')\n",
      "ax.plot([xlim[0], xlim[1]], [means[1], means[1]], 'g--')\n"
     ],
     "language": "python",
     "metadata": {},
     "outputs": [
      {
       "output_type": "pyout",
       "prompt_number": 12,
       "text": [
        "[<matplotlib.lines.Line2D at 0x1100e5ad0>]"
       ]
      },
      {
       "output_type": "display_data",
       "png": "[encoded data removed]",
       "text": [
        "<matplotlib.figure.Figure at 0x1100e5a50>"
       ]
      }
     ],
     "prompt_number": 12
    }
   ],
   "metadata": {}
  }
 ]
}