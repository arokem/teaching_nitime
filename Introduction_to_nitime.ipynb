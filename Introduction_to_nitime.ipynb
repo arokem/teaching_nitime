{
 "metadata": {
  "name": "Introduction_to_nitime"
 },
 "nbformat": 3,
 "nbformat_minor": 0,
 "worksheets": [
  {
   "cells": [
    {
     "cell_type": "markdown",
     "metadata": {},
     "source": [
      "# Introduction to nitime\n",
      "\n",
      "This tutorial notebook examines basic data structures and operations you can do in nitime\n",
      "\n",
      "We start by importing the timeseries module: \n"
     ]
    },
    {
     "cell_type": "code",
     "collapsed": false,
     "input": [
      "import nitime.timeseries as nts"
     ],
     "language": "python",
     "metadata": {},
     "outputs": [],
     "prompt_number": 1
    },
    {
     "cell_type": "markdown",
     "metadata": {},
     "source": [
      "This module contains several different objects which we will demonstrate. Let's start with representations of time. \n",
      "\n",
      "## Representing time\n",
      "\n",
      "\n",
      "The simplest representation of time is a `TimeArray`"
     ]
    },
    {
     "cell_type": "code",
     "collapsed": false,
     "input": [
      "ta1 = nts.TimeArray([1,2,3], time_unit='ms')\n",
      "print ta1"
     ],
     "language": "python",
     "metadata": {},
     "outputs": [
      {
       "output_type": "stream",
       "stream": "stdout",
       "text": [
        "TimeArray([ 1.,  2.,  3.], time_unit='ms')\n"
       ]
      }
     ],
     "prompt_number": 2
    },
    {
     "cell_type": "markdown",
     "metadata": {},
     "source": [
      "`TimeArray` objects support indexing (notice that the representation of the singleton contains the units!):"
     ]
    },
    {
     "cell_type": "code",
     "collapsed": false,
     "input": [
      "ta1[0]"
     ],
     "language": "python",
     "metadata": {},
     "outputs": [
      {
       "output_type": "pyout",
       "prompt_number": 3,
       "text": [
        "1.0 ms"
       ]
      }
     ],
     "prompt_number": 3
    },
    {
     "cell_type": "markdown",
     "metadata": {},
     "source": [
      "Note that for the purpose of unit conversions, you can initialize one `TimeArray` with another one: "
     ]
    },
    {
     "cell_type": "code",
     "collapsed": false,
     "input": [
      "ta2 = nts.TimeArray(ta1, time_unit='s')\n",
      "ta2"
     ],
     "language": "python",
     "metadata": {},
     "outputs": [
      {
       "output_type": "pyout",
       "prompt_number": 4,
       "text": [
        "TimeArray([ 0.001,  0.002,  0.003], time_unit='s')"
       ]
      }
     ],
     "prompt_number": 4
    },
    {
     "cell_type": "markdown",
     "metadata": {},
     "source": [
      "This is because under the hood time is *always* represented in integer format in some base unit"
     ]
    },
    {
     "cell_type": "code",
     "collapsed": false,
     "input": [
      "print ta2.__array__()\n",
      "print ta1.__array__()"
     ],
     "language": "python",
     "metadata": {},
     "outputs": [
      {
       "output_type": "stream",
       "stream": "stdout",
       "text": [
        "[1000000000 2000000000 3000000000]\n",
        "[1000000000 2000000000 3000000000]\n"
       ]
      }
     ],
     "prompt_number": 5
    },
    {
     "cell_type": "markdown",
     "metadata": {},
     "source": [
      "Don't worry - the unit we use per default is really small: "
     ]
    },
    {
     "cell_type": "code",
     "collapsed": false,
     "input": [
      "print nts.base_unit"
     ],
     "language": "python",
     "metadata": {},
     "outputs": [
      {
       "output_type": "stream",
       "stream": "stdout",
       "text": [
        "ps\n"
       ]
      }
     ],
     "prompt_number": 6
    },
    {
     "cell_type": "markdown",
     "metadata": {},
     "source": [
      "On the other hand, we can represent long durations without overflowing: \n"
     ]
    },
    {
     "cell_type": "code",
     "collapsed": false,
     "input": [
      "# We represent the longest int64 in pico-seconds and convert to days\n",
      "longest_time = nts.TimeArray(nts.TimeArray(9223372036854775807, time_unit=nts.base_unit), time_unit='D')\n",
      "print longest_time\n",
      "# That's quite a few weeks:\n",
      "in_weeks = nts.TimeArray(longest_time, time_unit='W')\n",
      "print in_weeks"
     ],
     "language": "python",
     "metadata": {},
     "outputs": [
      {
       "output_type": "stream",
       "stream": "stdout",
       "text": [
        "106.75199116730064 D\n",
        "15.25028445247152 W\n"
       ]
      }
     ],
     "prompt_number": 7
    },
    {
     "cell_type": "markdown",
     "metadata": {},
     "source": [
      "A typical case of time-representation is time sampled at some fixed interval. The `UniformTime` class can be used to represent these cases: "
     ]
    },
    {
     "cell_type": "code",
     "collapsed": false,
     "input": [
      "ut1 = nts.UniformTime(duration=100, sampling_rate=100, time_unit='ms')\n",
      "print ut1"
     ],
     "language": "python",
     "metadata": {},
     "outputs": [
      {
       "output_type": "stream",
       "stream": "stdout",
       "text": [
        "[0.0 ms 10.0 ms 20.0 ms 30.0 ms 40.0 ms 50.0 ms 60.0 ms 70.0 ms 80.0 ms\n",
        " 90.0 ms]\n"
       ]
      }
     ],
     "prompt_number": 8
    },
    {
     "cell_type": "markdown",
     "metadata": {},
     "source": [
      "The sampling rate is set in units of Hz:"
     ]
    },
    {
     "cell_type": "code",
     "collapsed": false,
     "input": [
      "ut2 = nts.UniformTime(duration=100, sampling_rate=1000, time_unit='ms')\n",
      "print ut2\n",
      "ut2.sampling_rate"
     ],
     "language": "python",
     "metadata": {},
     "outputs": [
      {
       "output_type": "stream",
       "stream": "stdout",
       "text": [
        "[0.0 ms 1.0 ms 2.0 ms 3.0 ms 4.0 ms 5.0 ms 6.0 ms 7.0 ms 8.0 ms 9.0 ms\n",
        " 10.0 ms 11.0 ms 12.0 ms 13.0 ms 14.0 ms 15.0 ms 16.0 ms 17.0 ms 18.0 ms\n",
        " 19.0 ms 20.0 ms 21.0 ms 22.0 ms 23.0 ms 24.0 ms 25.0 ms 26.0 ms 27.0 ms\n",
        " 28.0 ms 29.0 ms 30.0 ms 31.0 ms 32.0 ms 33.0 ms 34.0 ms 35.0 ms 36.0 ms\n",
        " 37.0 ms 38.0 ms 39.0 ms 40.0 ms 41.0 ms 42.0 ms 43.0 ms 44.0 ms 45.0 ms\n",
        " 46.0 ms 47.0 ms 48.0 ms 49.0 ms 50.0 ms 51.0 ms 52.0 ms 53.0 ms 54.0 ms\n",
        " 55.0 ms 56.0 ms 57.0 ms 58.0 ms 59.0 ms 60.0 ms 61.0 ms 62.0 ms 63.0 ms\n",
        " 64.0 ms 65.0 ms 66.0 ms 67.0 ms 68.0 ms 69.0 ms 70.0 ms 71.0 ms 72.0 ms\n",
        " 73.0 ms 74.0 ms 75.0 ms 76.0 ms 77.0 ms 78.0 ms 79.0 ms 80.0 ms 81.0 ms\n",
        " 82.0 ms 83.0 ms 84.0 ms 85.0 ms 86.0 ms 87.0 ms 88.0 ms 89.0 ms 90.0 ms\n",
        " 91.0 ms 92.0 ms 93.0 ms 94.0 ms 95.0 ms 96.0 ms 97.0 ms 98.0 ms 99.0 ms]\n"
       ]
      },
      {
       "output_type": "pyout",
       "prompt_number": 9,
       "text": [
        "1000.0 Hz"
       ]
      }
     ],
     "prompt_number": 9
    },
    {
     "cell_type": "markdown",
     "metadata": {},
     "source": [
      "But the sampling interval is set in the units of the object: "
     ]
    },
    {
     "cell_type": "code",
     "collapsed": false,
     "input": [
      "ut3 = nts.UniformTime(duration=100, sampling_interval=3.3, time_unit='ms')\n",
      "print ut3\n",
      "ut3.sampling_rate"
     ],
     "language": "python",
     "metadata": {},
     "outputs": [
      {
       "output_type": "stream",
       "stream": "stdout",
       "text": [
        "[0.0 ms 3.3 ms 6.6 ms 9.9 ms 13.2 ms 16.5 ms 19.8 ms 23.1 ms 26.4 ms\n",
        " 29.7 ms 33.0 ms 36.3 ms 39.6 ms 42.9 ms 46.2 ms 49.5 ms 52.8 ms 56.1 ms\n",
        " 59.4 ms 62.7 ms 66.0 ms 69.3 ms 72.6 ms 75.9 ms 79.2 ms 82.5 ms 85.8 ms\n",
        " 89.1 ms 92.4 ms 95.7 ms 99.0 ms]\n"
       ]
      },
      {
       "output_type": "pyout",
       "prompt_number": 10,
       "text": [
        "303.03030303 Hz"
       ]
      }
     ],
     "prompt_number": 10
    },
    {
     "cell_type": "markdown",
     "metadata": {},
     "source": [
      "Again, unit conversions can be done by reassigning into another object: "
     ]
    },
    {
     "cell_type": "code",
     "collapsed": false,
     "input": [
      "ut4 = nts.UniformTime(nts.UniformTime(duration=9223372036854775807, sampling_rate=1, time_unit='ps'), time_unit='W')\n",
      "print ut4"
     ],
     "language": "python",
     "metadata": {},
     "outputs": [
      {
       "output_type": "stream",
       "stream": "stdout",
       "text": [
        "[0.0 W 1.6534391534391535e-06 W 3.306878306878307e-06 W ...,\n",
        " 15.250281084656084 W 15.250282738095239 W 15.250284391534391 W]\n"
       ]
      }
     ],
     "prompt_number": 11
    },
    {
     "cell_type": "markdown",
     "metadata": {},
     "source": [
      "## Representing events in time\n",
      "\n",
      "Now that we can represent time, lets consider representations of events in time. \n",
      "\n",
      "The first kind of representation is the `Events` class  "
     ]
    },
    {
     "cell_type": "code",
     "collapsed": false,
     "input": [
      "t = nts.TimeArray([1, 2, 3], time_unit='ms')\n",
      "x = [1, 2, 3]\n",
      "y = ['a', 'b', 'c']\n",
      "z = [10., 20., 30.]\n",
      "i0 = [0, 0, 1]\n",
      "i1 = [0, 1, 2]"
     ],
     "language": "python",
     "metadata": {},
     "outputs": [],
     "prompt_number": 12
    },
    {
     "cell_type": "code",
     "collapsed": false,
     "input": [
      "# events with data\n",
      "ev1 = nts.Events(t, i=x, j=y, k=z)\n",
      "\n",
      "# events with indices\n",
      "ev2 = nts.Events(t, indices=[i0, i1])\n",
      "\n",
      "# events with indices and labels\n",
      "ev3 = nts.Events(t, labels=['trial', 'other'], indices=[i0, i1])"
     ],
     "language": "python",
     "metadata": {},
     "outputs": [],
     "prompt_number": 13
    },
    {
     "cell_type": "markdown",
     "metadata": {},
     "source": [
      "## `Epochs`\n",
      "\n",
      "These objects can be used to represent intervals in time. For example, here is a way to represent epochs happening 300 msec after two events and lasting for 1.5 and 2 seconds, respectively:\n"
     ]
    },
    {
     "cell_type": "code",
     "collapsed": false,
     "input": [
      "ep1 = nts.Epochs(t0=[0.75, 0.8], offset=0.3, duration=[1.5, 2.0], time_unit='s')\n",
      "ep1"
     ],
     "language": "python",
     "metadata": {},
     "outputs": [
      {
       "output_type": "pyout",
       "prompt_number": 14,
       "text": [
        "Epochs([(0.45 s, 1.95 s), (0.5 s, 2.5 s)], as (start,stop) tuples)"
       ]
      }
     ],
     "prompt_number": 14
    },
    {
     "cell_type": "markdown",
     "metadata": {},
     "source": [
      "Combining these two, we might start asking questions such as what events occurred during some interval in time. For example: "
     ]
    },
    {
     "cell_type": "code",
     "collapsed": false,
     "input": [
      "ep = nts.Epochs(start=0, stop=1.5, time_unit='ms')\n",
      "print ev1[ep]"
     ],
     "language": "python",
     "metadata": {},
     "outputs": [
      {
       "output_type": "stream",
       "stream": "stdout",
       "text": [
        "Events:\n",
        "\tTimeArray([ 1.], time_unit='ms')\n",
        "\t{'i': array([1]), 'k': array([ 10.]), 'j': array(['a'], \n",
        "      dtype='|S1')}\n"
       ]
      }
     ],
     "prompt_number": 15
    },
    {
     "cell_type": "markdown",
     "metadata": {},
     "source": [
      "## `TimeSeries` \n",
      "\n",
      "This class is the work-horse of the library"
     ]
    },
    {
     "cell_type": "code",
     "collapsed": false,
     "input": [
      "data = np.sin(np.linspace(0,10*pi, 1000))\n",
      "ts1 = nts.TimeSeries(data=data, sampling_rate=1000)"
     ],
     "language": "python",
     "metadata": {},
     "outputs": [],
     "prompt_number": 16
    },
    {
     "cell_type": "code",
     "collapsed": false,
     "input": [
      "import nitime.viz as viz"
     ],
     "language": "python",
     "metadata": {},
     "outputs": [],
     "prompt_number": 17
    },
    {
     "cell_type": "code",
     "collapsed": false,
     "input": [
      "fig = viz.plot_tseries(ts1)\n",
      "fig.set_size_inches([10,10])"
     ],
     "language": "python",
     "metadata": {},
     "outputs": [
      {
       "output_type": "display_data",
       "png": "[encoded data removed]",
       "text": [
        "<matplotlib.figure.Figure at 0x114fe1a10>"
       ]
      }
     ],
     "prompt_number": 18
    },
    {
     "cell_type": "markdown",
     "metadata": {},
     "source": [
      "Here's what it looks like with mult-channel data: "
     ]
    },
    {
     "cell_type": "code",
     "collapsed": false,
     "input": [
      "data = ts1.data[np.newaxis] + np.random.randn(10, 1000) * 0.1\n",
      "ts2 = nts.TimeSeries(data, sampling_rate=10)"
     ],
     "language": "python",
     "metadata": {},
     "outputs": [],
     "prompt_number": 19
    },
    {
     "cell_type": "markdown",
     "metadata": {},
     "source": [
      "`TimeSeries` instances have some other useful attributes that you can look at:"
     ]
    },
    {
     "cell_type": "code",
     "collapsed": false,
     "input": [
      "ts2.duration"
     ],
     "language": "python",
     "metadata": {},
     "outputs": [
      {
       "output_type": "pyout",
       "prompt_number": 20,
       "text": [
        "100.0 s"
       ]
      }
     ],
     "prompt_number": 20
    },
    {
     "cell_type": "code",
     "collapsed": false,
     "input": [
      "ts2.shape"
     ],
     "language": "python",
     "metadata": {},
     "outputs": [
      {
       "output_type": "pyout",
       "prompt_number": 21,
       "text": [
        "(10, 1000)"
       ]
      }
     ],
     "prompt_number": 21
    },
    {
     "cell_type": "markdown",
     "metadata": {},
     "source": [
      "To get the data out for a particular time-point, you can use the at method: "
     ]
    },
    {
     "cell_type": "code",
     "collapsed": false,
     "input": [
      "ts2.at(nts.TimeArray(0.06,time_unit='s'))"
     ],
     "language": "python",
     "metadata": {},
     "outputs": [
      {
       "output_type": "pyout",
       "prompt_number": 22,
       "text": [
        "array([ 0.00314918,  0.27821285, -0.25715149, -0.13318019,  0.06088141,\n",
        "       -0.11719045,  0.00109459, -0.00284293, -0.03473385, -0.12595348])"
       ]
      }
     ],
     "prompt_number": 22
    },
    {
     "cell_type": "markdown",
     "metadata": {},
     "source": [
      "The same thing happens if you index into the object:"
     ]
    },
    {
     "cell_type": "code",
     "collapsed": false,
     "input": [
      "ts2[(nts.TimeArray(0.06,time_unit='s'))]"
     ],
     "language": "python",
     "metadata": {},
     "outputs": [
      {
       "output_type": "pyout",
       "prompt_number": 23,
       "text": [
        "array([ 0.00314918,  0.27821285, -0.25715149, -0.13318019,  0.06088141,\n",
        "       -0.11719045,  0.00109459, -0.00284293, -0.03473385, -0.12595348])"
       ]
      }
     ],
     "prompt_number": 23
    },
    {
     "cell_type": "markdown",
     "metadata": {},
     "source": [
      "# Analysis\n",
      "\n",
      "Most analysis will rely on `analyzer` objects. These typically take as their input a `TimeSeries` object and additional parameters. For example, let's perform a spectral analysis of the `TimeSeries` object we just created. We start by importing the analysis module: "
     ]
    },
    {
     "cell_type": "code",
     "collapsed": false,
     "input": [
      "import nitime.analysis as nta"
     ],
     "language": "python",
     "metadata": {},
     "outputs": [],
     "prompt_number": 24
    },
    {
     "cell_type": "markdown",
     "metadata": {},
     "source": [
      "We initialize a `SpectralAnalyzer` object, with the time-series as input"
     ]
    },
    {
     "cell_type": "code",
     "collapsed": false,
     "input": [
      "sa1 = nta.SpectralAnalyzer(ts2)"
     ],
     "language": "python",
     "metadata": {},
     "outputs": [],
     "prompt_number": 25
    },
    {
     "cell_type": "markdown",
     "metadata": {},
     "source": [
      "This analyzer has several attributes. For example, we can get the spectrum for every channel calculated using a windowed psd method : "
     ]
    },
    {
     "cell_type": "code",
     "collapsed": false,
     "input": [
      "f, psd = sa1.psd\n",
      "psd.shape"
     ],
     "language": "python",
     "metadata": {},
     "outputs": [
      {
       "output_type": "pyout",
       "prompt_number": 26,
       "text": [
        "(10, 33)"
       ]
      }
     ],
     "prompt_number": 26
    },
    {
     "cell_type": "code",
     "collapsed": false,
     "input": [
      "fig, ax = plt.subplots(1)\n",
      "ax.plot(f, psd[0])\n",
      "fig.set_size_inches([8,6])"
     ],
     "language": "python",
     "metadata": {},
     "outputs": [
      {
       "output_type": "display_data",
       "png": "[encoded data removed]",
       "text": [
        "<matplotlib.figure.Figure at 0x114f756d0>"
       ]
      }
     ],
     "prompt_number": 27
    },
    {
     "cell_type": "markdown",
     "metadata": {},
     "source": [
      "Or using a multi-taper (slepian) windows: "
     ]
    },
    {
     "cell_type": "code",
     "collapsed": false,
     "input": [
      "f, per = sa1.spectrum_multi_taper\n",
      "per.shape"
     ],
     "language": "python",
     "metadata": {},
     "outputs": [
      {
       "output_type": "pyout",
       "prompt_number": 28,
       "text": [
        "(10, 501)"
       ]
      }
     ],
     "prompt_number": 28
    },
    {
     "cell_type": "code",
     "collapsed": false,
     "input": [
      "fig, ax = plt.subplots(1)\n",
      "ax.plot(f, per[0])\n",
      "fig.set_size_inches([8,6])\n"
     ],
     "language": "python",
     "metadata": {},
     "outputs": [
      {
       "output_type": "display_data",
       "png": "[encoded data removed]",
       "text": [
        "<matplotlib.figure.Figure at 0x114f54610>"
       ]
      }
     ],
     "prompt_number": 29
    },
    {
     "cell_type": "markdown",
     "metadata": {},
     "source": [
      "Or the pair-wise cross-spectrum between every pair of channels in the time-series"
     ]
    },
    {
     "cell_type": "code",
     "collapsed": false,
     "input": [
      "f, csd = sa1.cpsd"
     ],
     "language": "python",
     "metadata": {},
     "outputs": [],
     "prompt_number": 30
    },
    {
     "cell_type": "code",
     "collapsed": false,
     "input": [
      "csd.shape"
     ],
     "language": "python",
     "metadata": {},
     "outputs": [
      {
       "output_type": "pyout",
       "prompt_number": 31,
       "text": [
        "(10, 10, 33)"
       ]
      }
     ],
     "prompt_number": 31
    }
   ],
   "metadata": {}
  }
 ]
}